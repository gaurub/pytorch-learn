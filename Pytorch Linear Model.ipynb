{
 "cells": [
  {
   "cell_type": "markdown",
   "metadata": {},
   "source": [
    "This is my attempt to implement an extremely simple Linear model in PyTorch. It is being done as part of my efforts to get really familiar with PyTorch; my go to exercise when learning a new framework has become implementing the simplest Linear model possible; if I can't do that easily, then I don't understand the philosophy of the framework."
   ]
  },
  {
   "cell_type": "code",
   "execution_count": 69,
   "metadata": {},
   "outputs": [],
   "source": [
    "from torch.autograd import Variable\n",
    "import torch\n",
    "import torch.utils.data\n",
    "import torch.nn as nn\n",
    "import numpy as np\n",
    "import torch.optim as optim"
   ]
  },
  {
   "cell_type": "markdown",
   "metadata": {},
   "source": [
    "Here, we're defining a Linear function that takes in a vector, x, some coefficients and returns the output of applying the linear function created by the coefficients."
   ]
  },
  {
   "cell_type": "code",
   "execution_count": 70,
   "metadata": {},
   "outputs": [],
   "source": [
    "def lin(x,a,b):\n",
    "    return a*x + b "
   ]
  },
  {
   "cell_type": "markdown",
   "metadata": {},
   "source": [
    "Just specifying some constants. \n",
    "\n",
    "Notice that in the last line of this block, I am adding some random Gaussian noise to the output of the linear function so as to make it somewhat less contrived."
   ]
  },
  {
   "cell_type": "code",
   "execution_count": 71,
   "metadata": {},
   "outputs": [],
   "source": [
    "num_samples = 100\n",
    "X = torch.linspace(-5,5,num_samples)\n",
    "coefficient = 2\n",
    "intercept = 3\n",
    "Y = lin(X, coefficient, intercept) + torch.randn(num_samples) "
   ]
  },
  {
   "cell_type": "code",
   "execution_count": 72,
   "metadata": {},
   "outputs": [],
   "source": [
    "%matplotlib inline"
   ]
  },
  {
   "cell_type": "code",
   "execution_count": 73,
   "metadata": {},
   "outputs": [],
   "source": [
    "import matplotlib.pyplot as plt"
   ]
  },
  {
   "cell_type": "markdown",
   "metadata": {},
   "source": [
    "Here, I'd just like to get a look at what my points are."
   ]
  },
  {
   "cell_type": "code",
   "execution_count": 74,
   "metadata": {},
   "outputs": [
    {
     "data": {
      "text/plain": [
       "[<matplotlib.lines.Line2D at 0x7fb2da587f28>]"
      ]
     },
     "execution_count": 74,
     "metadata": {},
     "output_type": "execute_result"
    },
    {
     "data": {
      "image/png": "[encoded data removed]",
      "text/plain": [
       "<matplotlib.figure.Figure at 0x7fb2d19610b8>"
      ]
     },
     "metadata": {},
     "output_type": "display_data"
    }
   ],
   "source": [
    "plt.plot(X.numpy(),Y.numpy(), 'bo')"
   ]
  },
  {
   "cell_type": "markdown",
   "metadata": {},
   "source": [
    "Now, we have to create the linear model in PyTorch and use SGD or some other optimizer to learn the correct values of the coefficients from the data.\n",
    "\n",
    "Since PyTorch is more OO, I'm creating a Net class that will model the linear function I'm trying to approximate. We'll define a Linear layer with 1 input and 1 output."
   ]
  },
  {
   "cell_type": "code",
   "execution_count": 75,
   "metadata": {},
   "outputs": [
    {
     "name": "stdout",
     "output_type": "stream",
     "text": [
      "Net (\n",
      "  (fc): Linear (1 -> 1)\n",
      ")\n"
     ]
    }
   ],
   "source": [
    "class Net(nn.Module):\n",
    "    def __init__(self):\n",
    "        super(Net, self).__init__()\n",
    "        self.fc = nn.Linear(1,1)\n",
    "        \n",
    "    def forward(self, x):\n",
    "        x = self.fc(x)\n",
    "        return x\n",
    "    \n",
    "\n",
    "net = Net()\n",
    "print(net)"
   ]
  },
  {
   "cell_type": "markdown",
   "metadata": {},
   "source": [
    "Just to make sure I've understood correctly, I'm going to check the number of parameters. It should be 2, since we're going to have one weight and one bias term."
   ]
  },
  {
   "cell_type": "code",
   "execution_count": 76,
   "metadata": {},
   "outputs": [
    {
     "name": "stdout",
     "output_type": "stream",
     "text": [
      "2\n"
     ]
    }
   ],
   "source": [
    "params = list(net.parameters())\n",
    "print(len(params))"
   ]
  },
  {
   "cell_type": "code",
   "execution_count": 89,
   "metadata": {},
   "outputs": [],
   "source": [
    "# set up train loader\n",
    "trainloader = torch.utils.data.DataLoader(torch.utils.data.TensorDataset(X,Y))\n",
    "criterion = nn.MSELoss()\n",
    "optimizer = optim.SGD(net.parameters(), lr=0.00001)"
   ]
  },
  {
   "cell_type": "code",
   "execution_count": 90,
   "metadata": {},
   "outputs": [],
   "source": [
    "\n",
    "for i in range(10):\n",
    "    for i, data in enumerate(trainloader):\n",
    "        inputs, output = data\n",
    "        inputs, output = Variable(inputs.float()), Variable(output.float())\n",
    "        optimizer.zero_grad()\n",
    "        out = net(inputs)\n",
    "        loss = criterion(out, output)\n",
    "        loss.backward()\n",
    "        optimizer.step()\n",
    "    "
   ]
  },
  {
   "cell_type": "markdown",
   "metadata": {},
   "source": [
    "I had some weird loss changes in the above; I'm chalking it up to the optimizer not settling into a nice region; the parameters that it learns seem pretty good thought."
   ]
  },
  {
   "cell_type": "code",
   "execution_count": 91,
   "metadata": {},
   "outputs": [
    {
     "name": "stdout",
     "output_type": "stream",
     "text": [
      "Parameter containing:\n",
      " 2.0200\n",
      "[torch.FloatTensor of size 1x1]\n",
      "\n",
      "Parameter containing:\n",
      " 3.0418\n",
      "[torch.FloatTensor of size 1]\n",
      "\n"
     ]
    }
   ],
   "source": [
    "params = list(net.parameters())\n",
    "for i in params:\n",
    "    print(i)"
   ]
  },
  {
   "cell_type": "markdown",
   "metadata": {},
   "source": [
    "Now, for kicks, plot the output from the model we learned."
   ]
  },
  {
   "cell_type": "code",
   "execution_count": 94,
   "metadata": {},
   "outputs": [
    {
     "data": {
      "text/plain": [
       "[<matplotlib.lines.Line2D at 0x7fb2d18751d0>,\n",
       " <matplotlib.lines.Line2D at 0x7fb2d1875320>]"
      ]
     },
     "execution_count": 94,
     "metadata": {},
     "output_type": "execute_result"
    },
    {
     "data": {
      "image/png": "[encoded data removed]",
      "text/plain": [
       "<matplotlib.figure.Figure at 0x7fb2d18b0780>"
      ]
     },
     "metadata": {},
     "output_type": "display_data"
    }
   ],
   "source": [
    "num_samples = 100\n",
    "X_test = torch.linspace(-5,5,num_samples)\n",
    "Y_test = torch.zeros(num_samples)\n",
    "\n",
    "Y_test = net(Variable(torch.unsqueeze(X_test.float(), 1)))\n",
    "    \n",
    "plt.plot(X.numpy(), Y.numpy(), 'bo', X_test.numpy(), Y_test.data.numpy(), 'r-')\n"
   ]
  }
 ],
 "metadata": {
  "kernelspec": {
   "display_name": "pytorch",
   "language": "python",
   "name": "pytorch"
  },
  "language_info": {
   "codemirror_mode": {
    "name": "ipython",
    "version": 3
   },
   "file_extension": ".py",
   "mimetype": "text/x-python",
   "name": "python",
   "nbconvert_exporter": "python",
   "pygments_lexer": "ipython3",
   "version": "3.5.2"
  }
 },
 "nbformat": 4,
 "nbformat_minor": 2
}
